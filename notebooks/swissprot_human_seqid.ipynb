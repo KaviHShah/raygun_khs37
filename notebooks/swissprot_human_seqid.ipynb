{
 "cells": [
  {
   "cell_type": "markdown",
   "id": "7a56651e-9f1d-464e-b3b2-3bfdd8139461",
   "metadata": {},
   "source": [
    "## Loading the model"
   ]
  },
  {
   "cell_type": "code",
   "execution_count": 1,
   "id": "2c3488de-03a9-40bd-89d0-4ac19f8ba772",
   "metadata": {},
   "outputs": [],
   "source": [
    "import torch"
   ]
  },
  {
   "cell_type": "code",
   "execution_count": 27,
   "id": "43a17db6-44bb-4a15-9740-6511c814c51d",
   "metadata": {},
   "outputs": [],
   "source": [
    "from raygun.pretrained import raygun_2_2mil_800M\n",
    "# \n",
    "raymodel = raygun_2_2mil_800M()\n",
    "raymodel = raymodel.to(0)"
   ]
  },
  {
   "cell_type": "code",
   "execution_count": 2,
   "id": "db41bb41-3c5d-44fb-9e0b-852d6400bbc9",
   "metadata": {},
   "outputs": [],
   "source": [
    "from esm.pretrained import esm2_t33_650M_UR50D\n",
    "model, alph = esm2_t33_650M_UR50D()\n",
    "model       = model.to(0)"
   ]
  },
  {
   "cell_type": "markdown",
   "id": "5bc14d99-e80a-4d8c-b1e2-eab6e4f6f23b",
   "metadata": {},
   "source": [
    "## Dataset and dataloader"
   ]
  },
  {
   "cell_type": "code",
   "execution_count": 8,
   "id": "8d4def3c-9761-46af-a2d2-eb757a58ac26",
   "metadata": {},
   "outputs": [],
   "source": [
    "from tqdm import tqdm\n",
    "from torch.utils.data import DataLoader\n",
    "from raygun.modelv2.loader import RaygunData\n",
    "from Bio import SeqIO\n",
    "path = \"../data/fastas/human-mouse.sprot.fasta\"\n",
    "recs = list(SeqIO.parse(path, \"fasta\"))\n",
    "recs = [r for r in recs if len(r.seq) < 1000 and len(r.seq) > 50]"
   ]
  },
  {
   "cell_type": "markdown",
   "id": "ab230b08-89e3-41a7-9b74-29dca027dd34",
   "metadata": {},
   "source": [
    "## Selecting seqs with lengths < 1000"
   ]
  },
  {
   "cell_type": "code",
   "execution_count": 9,
   "id": "8c105897-2031-4137-8ef6-cb956a08548c",
   "metadata": {},
   "outputs": [],
   "source": [
    "import random\n",
    "from io import StringIO\n",
    "recstr  = \"\"\n",
    "for r in recs:\n",
    "    recstr += f\"\"\">{r.id}\n",
    "{str(r.seq)}\n",
    "\"\"\"\n",
    "recstream = StringIO(recstr)"
   ]
  },
  {
   "cell_type": "code",
   "execution_count": 10,
   "id": "0867260b-7627-49fe-a7ce-ff4ca06f30cf",
   "metadata": {},
   "outputs": [
    {
     "data": {
      "text/plain": [
       "33048"
      ]
     },
     "execution_count": 10,
     "metadata": {},
     "output_type": "execute_result"
    }
   ],
   "source": [
    "preddata = RaygunData(recstream, alph, model, device = 0)\n",
    "predloader = DataLoader(preddata, shuffle = True, \n",
    "                       batch_size = 1, collate_fn=preddata.collatefn) ## use the collatefn provided in RaygunData\n",
    "len(preddata)"
   ]
  },
  {
   "cell_type": "markdown",
   "id": "000a1b69-9683-4c2e-9c06-5727b95acbc1",
   "metadata": {},
   "source": [
    "## Running Raygun"
   ]
  },
  {
   "cell_type": "code",
   "execution_count": 11,
   "id": "c4b18c5e-4670-49b8-9de4-4de66d36603a",
   "metadata": {},
   "outputs": [
    {
     "name": "stderr",
     "output_type": "stream",
     "text": [
      "Running SPROT sequences: 100%|██████████| 33048/33048 [1:50:50<00:00,  4.97it/s]  \n"
     ]
    }
   ],
   "source": [
    "true_seqs = []\n",
    "pred_seqs = []\n",
    "for tok, emb, mask, bat in tqdm(predloader, desc = \"Running SPROT sequences\"):\n",
    "    \"\"\"\n",
    "    tok -> normal ESM-2 tokens. Shape [batch_size, no_sequences]\n",
    "    emb -> ESM-2 embedding representation. Shape [batch_size, no_sequences, 1280]\n",
    "    mask-> If batch_size > 1, mask gives the information about the length of the individual \n",
    "           sequence in the batch. Shape [batch_size, no_sequences], where `no_sequences`=max(length(seq_i)), i=1 to batch_size\n",
    "           Note that the sequences are left-padded. \n",
    "    batch-> Actual sequence information. Is a tuple [(seq-name, seq), ...]\n",
    "    \"\"\"\n",
    "    tok = tok.to(0)\n",
    "    emb = emb.to(0)\n",
    "    mask = mask.to(0)\n",
    "    _, ts = zip(*bat)\n",
    "    true_seqs += ts\n",
    "    ## set `return_logits_and_seqs` to true for the model to return `generated-sequences`. \n",
    "    ## use `error_c` to determine the amount of noise to be added while generating.\n",
    "    results = raymodel(emb, mask=mask, \n",
    "                       return_logits_and_seqs = True)\n",
    "    pred_seqs += results[\"generated-sequences\"]"
   ]
  },
  {
   "cell_type": "markdown",
   "id": "f3167d61-191d-4f6f-ab39-4968e34572a3",
   "metadata": {},
   "source": [
    "## Getting sequence identity"
   ]
  },
  {
   "cell_type": "code",
   "execution_count": 15,
   "id": "7467c731-382c-4c8c-ba1e-686755e852b3",
   "metadata": {},
   "outputs": [
    {
     "data": {
      "text/plain": [
       "0.9572649572649573"
      ]
     },
     "execution_count": 15,
     "metadata": {},
     "output_type": "execute_result"
    }
   ],
   "source": [
    "import numpy as np\n",
    "def compute_seq_id(s1, s2):\n",
    "    return np.average([1 if x == y else 0 for x, y in zip(list(s1),\n",
    "                                             list(s2))])\n",
    "\n",
    "seqdata     = [(tr, orig, compute_seq_id(tr, orig)) for tr, orig in zip(true_seqs, pred_seqs)]\n",
    "_,_, seqids = zip(*seqdata)\n",
    "np.median(seqids)"
   ]
  },
  {
   "cell_type": "markdown",
   "id": "08377d20-30a3-4ca6-b687-3dad5dca5787",
   "metadata": {},
   "source": [
    "## Compute sequence identity on FPs"
   ]
  },
  {
   "cell_type": "code",
   "execution_count": 28,
   "id": "0ab274d2-6338-4cab-9234-acb94bc80158",
   "metadata": {},
   "outputs": [
    {
     "data": {
      "text/plain": [
       "933"
      ]
     },
     "execution_count": 28,
     "metadata": {},
     "output_type": "execute_result"
    }
   ],
   "source": [
    "fpseqs   = f\"../data/fastas/all_gfp_seqs.fasta\"\n",
    "fpdata   = RaygunData(fpseqs, alph, model, device = 0)\n",
    "fploader = DataLoader(fpdata, shuffle = True, \n",
    "                       batch_size = 3, collate_fn=fpdata.collatefn) ## use the collatefn provided in RaygunData\n",
    "len(fpdata)"
   ]
  },
  {
   "cell_type": "code",
   "execution_count": 35,
   "id": "fa8d707d-a775-4891-b610-b8efc1fc19b5",
   "metadata": {},
   "outputs": [
    {
     "name": "stderr",
     "output_type": "stream",
     "text": [
      "Running FP sequences: 100%|██████████| 311/311 [01:44<00:00,  2.98it/s]\n"
     ]
    }
   ],
   "source": [
    "true_fps = []\n",
    "pred_fps = []\n",
    "for tok, emb, mask, bat in tqdm(fploader, desc = \"Running FP sequences\"):\n",
    "    tok        = tok.to(0)\n",
    "    emb        = emb.to(0)\n",
    "    mask       = mask.to(0)\n",
    "    _, ts      = zip(*bat)\n",
    "    true_fps  += ts\n",
    "    results    = raymodel(emb, mask=mask, noise=0.,\n",
    "                       return_logits_and_seqs = True)\n",
    "    pred_fps += results[\"generated-sequences\"]"
   ]
  },
  {
   "cell_type": "code",
   "execution_count": 37,
   "id": "8bf6b546-e1cb-427e-98c1-610753965d68",
   "metadata": {},
   "outputs": [
    {
     "data": {
      "text/plain": [
       "0.9957627118644068"
      ]
     },
     "execution_count": 37,
     "metadata": {},
     "output_type": "execute_result"
    }
   ],
   "source": [
    "fpseqids    = [compute_seq_id(tr, orig) for tr, orig in zip(true_fps, pred_fps)]\n",
    "np.median(fpseqids)"
   ]
  }
 ],
 "metadata": {
  "kernelspec": {
   "display_name": "molfeat",
   "language": "python",
   "name": "molfeat"
  },
  "language_info": {
   "codemirror_mode": {
    "name": "ipython",
    "version": 3
   },
   "file_extension": ".py",
   "mimetype": "text/x-python",
   "name": "python",
   "nbconvert_exporter": "python",
   "pygments_lexer": "ipython3",
   "version": "3.11.9"
  }
 },
 "nbformat": 4,
 "nbformat_minor": 5
}
