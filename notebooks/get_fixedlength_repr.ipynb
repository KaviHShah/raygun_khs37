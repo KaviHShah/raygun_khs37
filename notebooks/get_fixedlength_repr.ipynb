{
 "cells": [
  {
   "cell_type": "markdown",
   "id": "827515a1-99cf-4c30-aa25-e72270220847",
   "metadata": {},
   "source": [
    "## Load the Raygun model and embedding"
   ]
  },
  {
   "cell_type": "code",
   "execution_count": 1,
   "id": "f0602fa8-cc40-4210-86f8-f36e1de89997",
   "metadata": {},
   "outputs": [
    {
     "name": "stderr",
     "output_type": "stream",
     "text": [
      "Using cache found in /hpc/home/kd312/.cache/torch/hub/rohitsinghlab_raygun_main\n"
     ]
    }
   ],
   "source": [
    "from raygun.pretrained import raygun_2_2mil_800M\n",
    "# \n",
    "raymodel = raygun_2_2mil_800M()\n",
    "raymodel = raymodel.to(0)\n",
    "\n",
    "# esm-2 model\n",
    "from esm.pretrained import esm2_t33_650M_UR50D\n",
    "model, alph = esm2_t33_650M_UR50D()\n",
    "model       = model.to(0)"
   ]
  },
  {
   "cell_type": "markdown",
   "id": "10a0463e-c26d-4ee8-b3d5-e5f7dbb3b7b6",
   "metadata": {},
   "source": [
    "## Initialize the dataloader"
   ]
  },
  {
   "cell_type": "code",
   "execution_count": 2,
   "id": "88047556-055f-4f1c-ad4a-3fe55a38628c",
   "metadata": {},
   "outputs": [
    {
     "data": {
      "text/plain": [
       "933"
      ]
     },
     "execution_count": 2,
     "metadata": {},
     "output_type": "execute_result"
    }
   ],
   "source": [
    "from tqdm import tqdm\n",
    "from torch.utils.data import DataLoader\n",
    "from raygun.modelv2.loader import RaygunData\n",
    "\n",
    "preddata   = RaygunData(\"../data/fastas/all_gfp_seqs.fasta\", \n",
    "                        alph, model, device = 0)\n",
    "predloader = DataLoader(preddata, shuffle = True, \n",
    "                       batch_size = 3, collate_fn=preddata.collatefn) ## use the collatefn provided in RaygunData\n",
    "len(preddata)"
   ]
  },
  {
   "cell_type": "markdown",
   "id": "c0585655-9715-4ec3-9847-fc2c366b8cc7",
   "metadata": {},
   "source": [
    "## Get one batch, run it through Raygun and get fixed-length embeddings"
   ]
  },
  {
   "cell_type": "code",
   "execution_count": 3,
   "id": "4458a5f1-5302-4400-a977-94e98bdd34e9",
   "metadata": {},
   "outputs": [],
   "source": [
    "toks, embs, mask, bat = next(iter(predloader))\n",
    "toks = toks.to(0)\n",
    "embs = embs.to(0)\n",
    "mask = mask.to(0)"
   ]
  },
  {
   "cell_type": "code",
   "execution_count": 5,
   "id": "39a60b73-f705-4c8a-8617-4300046040e3",
   "metadata": {},
   "outputs": [],
   "source": [
    "results = raymodel(embs, mask=mask, noise = 0.0, \n",
    "                  return_logits_and_seqs = False)"
   ]
  },
  {
   "cell_type": "markdown",
   "id": "c4dd9df3-14b2-4d38-b0de-8e0840ff5fd7",
   "metadata": {},
   "source": [
    "## Obtain the fixed length representation\n",
    "\n",
    "Should have the dimension: batch_size, 50, 1280\n",
    "regardless of the original sequence length"
   ]
  },
  {
   "cell_type": "code",
   "execution_count": 6,
   "id": "54d40e4d-e01d-4bee-91ab-f678e233966b",
   "metadata": {},
   "outputs": [
    {
     "data": {
      "text/plain": [
       "torch.Size([3, 50, 1280])"
      ]
     },
     "execution_count": 6,
     "metadata": {},
     "output_type": "execute_result"
    }
   ],
   "source": [
    "flemb = results[\"fixed_length_embedding\"]\n",
    "flemb.shape"
   ]
  }
 ],
 "metadata": {
  "kernelspec": {
   "display_name": "raygun",
   "language": "python",
   "name": "raygun"
  },
  "language_info": {
   "codemirror_mode": {
    "name": "ipython",
    "version": 3
   },
   "file_extension": ".py",
   "mimetype": "text/x-python",
   "name": "python",
   "nbconvert_exporter": "python",
   "pygments_lexer": "ipython3",
   "version": "3.11.13"
  }
 },
 "nbformat": 4,
 "nbformat_minor": 5
}
