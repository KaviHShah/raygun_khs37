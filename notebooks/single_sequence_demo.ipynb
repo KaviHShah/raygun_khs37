{
 "cells": [
  {
   "cell_type": "markdown",
   "id": "cda461cb-1a1f-4ba9-b8b7-cb42fd547575",
   "metadata": {},
   "source": [
    "## Loading the model"
   ]
  },
  {
   "cell_type": "code",
   "execution_count": 3,
   "id": "47e45487-f8b5-4293-933e-9bbbd39d7ba3",
   "metadata": {
    "tags": []
   },
   "outputs": [
    {
     "name": "stderr",
     "output_type": "stream",
     "text": [
      "/hpc/group/singhlab/user/kd312/minimamba/envs/molfeat/lib/python3.11/site-packages/torch/hub.py:295: UserWarning: You are about to download and run code from an untrusted repository. In a future release, this won't be allowed. To add the repository to your trusted list, change the command to {calling_fn}(..., trust_repo=False) and a command prompt will appear asking for an explicit confirmation of trust, or load(..., trust_repo=True), which will assume that the prompt is to be answered with 'yes'. You can also use load(..., trust_repo='check') which will only prompt for confirmation if the repo is not already trusted. This will eventually be the default behaviour\n",
      "  warnings.warn(\n",
      "Downloading: \"https://github.com/rohitsinghlab/raygun/zipball/main\" to /hpc/home/kd312/.cache/torch/hub/main.zip\n"
     ]
    },
    {
     "data": {
      "text/plain": [
       "ESM2(\n",
       "  (embed_tokens): Embedding(33, 1280, padding_idx=1)\n",
       "  (layers): ModuleList(\n",
       "    (0-32): 33 x TransformerLayer(\n",
       "      (self_attn): MultiheadAttention(\n",
       "        (k_proj): Linear(in_features=1280, out_features=1280, bias=True)\n",
       "        (v_proj): Linear(in_features=1280, out_features=1280, bias=True)\n",
       "        (q_proj): Linear(in_features=1280, out_features=1280, bias=True)\n",
       "        (out_proj): Linear(in_features=1280, out_features=1280, bias=True)\n",
       "        (rot_emb): RotaryEmbedding()\n",
       "      )\n",
       "      (self_attn_layer_norm): LayerNorm((1280,), eps=1e-05, elementwise_affine=True)\n",
       "      (fc1): Linear(in_features=1280, out_features=5120, bias=True)\n",
       "      (fc2): Linear(in_features=5120, out_features=1280, bias=True)\n",
       "      (final_layer_norm): LayerNorm((1280,), eps=1e-05, elementwise_affine=True)\n",
       "    )\n",
       "  )\n",
       "  (contact_head): ContactPredictionHead(\n",
       "    (regression): Linear(in_features=660, out_features=1, bias=True)\n",
       "    (activation): Sigmoid()\n",
       "  )\n",
       "  (emb_layer_norm_after): LayerNorm((1280,), eps=1e-05, elementwise_affine=True)\n",
       "  (lm_head): RobertaLMHead(\n",
       "    (dense): Linear(in_features=1280, out_features=1280, bias=True)\n",
       "    (layer_norm): LayerNorm((1280,), eps=1e-05, elementwise_affine=True)\n",
       "  )\n",
       ")"
      ]
     },
     "execution_count": 3,
     "metadata": {},
     "output_type": "execute_result"
    }
   ],
   "source": [
    "from raygun.pretrained import raygun_2_2mil_800M\n",
    "# \n",
    "raymodel = raygun_2_2mil_800M()\n",
    "raymodel = raymodel.to(0)\n",
    "\n",
    "# esm-2 model\n",
    "from esm.pretrained import esm2_t33_650M_UR50D\n",
    "model, alph = esm2_t33_650M_UR50D()\n",
    "bc          = alph.get_batch_converter()\n",
    "model       = model.to(0)\n",
    "model.eval()"
   ]
  },
  {
   "cell_type": "markdown",
   "id": "be07e39d-7a7f-43b0-84a7-1dea8ec20969",
   "metadata": {},
   "source": [
    "## Take EGFP sequence"
   ]
  },
  {
   "cell_type": "code",
   "execution_count": 4,
   "id": "4f20da38-a65e-458c-b3af-6528a1c6c25f",
   "metadata": {},
   "outputs": [],
   "source": [
    "data = [(\"egfp\", \"MVSKGEELFTGVVPILVELDGDVNGHKFSVSGEGEGDATYGKLTLKFICTTGKLPVPWPTLVTTLTYGVQCFSRYPDHMKQHDFFKSAMPEGYVQERTIFFKDDGNYKTRAEVKFEGDTLVNRIELKGIDFKEDGNILGHKLEYNYNSHNVYIMADKQKNGIKVNFKIRHNIEDGSVQLADHYQQNTPIGDGPVLLPDNHYLSTQSALSKDPNEKRDHMVLLEFVTAAGITLGMDELYK\")]\n",
    "\n",
    "_, _, tok = bc(data)\n",
    "emb       = model(tok.to(0), repr_layers =[33],\n",
    "                 return_contacts = False)[\"representations\"][33][:, 1:-1, :]"
   ]
  },
  {
   "cell_type": "code",
   "execution_count": 5,
   "id": "6ab45bb9-1857-4701-8c20-3c522f5dd552",
   "metadata": {},
   "outputs": [],
   "source": [
    "import torch"
   ]
  },
  {
   "cell_type": "code",
   "execution_count": 6,
   "id": "e4c44b96-f257-437a-a3c2-5f0921da42c9",
   "metadata": {},
   "outputs": [],
   "source": [
    "results   = raymodel(emb, target_lengths = torch.tensor([210], dtype = int), noise = 0.01, \n",
    "                     return_logits_and_seqs = True)"
   ]
  },
  {
   "cell_type": "code",
   "execution_count": 7,
   "id": "2546a981-9cf1-4316-9433-775ec773e2fb",
   "metadata": {},
   "outputs": [
    {
     "data": {
      "text/plain": [
       "(['MVSKGEELFTGVVPILVELDGDVNGHKFVSGEEDTAYLKLKKFITTGKPVWPTTLTTTYGQCFRRPHHKQHDFKSAPEGYQERTIFKDDGNYKTRAEVKFEGDTLVNRIELKGIDFKEDGNILGHKLEYHYNSNIIMADKKKGIKKFKRHNIDGSVLDAYHQTPIGDGVLLPNHYLTQSALKNPEKRDHMVLLEFVTAAGITLGMEEYYK'],\n",
       " 210)"
      ]
     },
     "execution_count": 7,
     "metadata": {},
     "output_type": "execute_result"
    }
   ],
   "source": [
    "results[\"generated-sequences\"], len(results[\"generated-sequences\"][0])"
   ]
  }
 ],
 "metadata": {
  "kernelspec": {
   "display_name": "raygun",
   "language": "python",
   "name": "raygun"
  },
  "language_info": {
   "codemirror_mode": {
    "name": "ipython",
    "version": 3
   },
   "file_extension": ".py",
   "mimetype": "text/x-python",
   "name": "python",
   "nbconvert_exporter": "python",
   "pygments_lexer": "ipython3",
   "version": "3.11.13"
  }
 },
 "nbformat": 4,
 "nbformat_minor": 5
}
