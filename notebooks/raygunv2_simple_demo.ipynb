{
 "cells": [
  {
   "cell_type": "markdown",
   "id": "a787ee64-3a8c-429b-ba8b-5e798b936aec",
   "metadata": {},
   "source": [
    "## Loading the model"
   ]
  },
  {
   "cell_type": "code",
   "execution_count": 1,
   "id": "c539f2e3-a689-4da2-aef2-40e6ffc1cac6",
   "metadata": {},
   "outputs": [],
   "source": [
    "from raygun.pretrained import raygun_2_2mil_800M"
   ]
  },
  {
   "cell_type": "code",
   "execution_count": 2,
   "id": "833d5819-ba14-40f2-8fec-d645d867a2ab",
   "metadata": {},
   "outputs": [
    {
     "name": "stderr",
     "output_type": "stream",
     "text": [
      "Using cache found in /hpc/home/kd312/.cache/torch/hub/rohitsinghlab_raygun_main\n"
     ]
    }
   ],
   "source": [
    "raymodel = raygun_2_2mil_800M()\n",
    "raymodel = raymodel.to(0)"
   ]
  },
  {
   "cell_type": "markdown",
   "id": "4618d498-1f1a-4795-9ff6-4781bc278c5f",
   "metadata": {},
   "source": [
    "## Loading the ESM-2 model for generating the initial embedding"
   ]
  },
  {
   "cell_type": "code",
   "execution_count": 3,
   "id": "46c6b8ee-5656-4af0-b6b5-262e4f64b83e",
   "metadata": {},
   "outputs": [],
   "source": [
    "from esm.pretrained import esm2_t33_650M_UR50D\n",
    "model, alph = esm2_t33_650M_UR50D()\n",
    "model       = model.to(0)"
   ]
  },
  {
   "cell_type": "markdown",
   "id": "2f00ed69-997d-4349-ab01-c814091f8a28",
   "metadata": {},
   "source": [
    "## Loading the dataset/dataloader\n",
    "\n",
    "### Used the 933 Fluorescent proteins for demonstration"
   ]
  },
  {
   "cell_type": "code",
   "execution_count": 4,
   "id": "dfbbeb99-103c-416e-bdfb-8148b906cc3d",
   "metadata": {},
   "outputs": [
    {
     "data": {
      "text/plain": [
       "933"
      ]
     },
     "execution_count": 4,
     "metadata": {},
     "output_type": "execute_result"
    }
   ],
   "source": [
    "from tqdm import tqdm\n",
    "from torch.utils.data import DataLoader\n",
    "from raygun.modelv2.loader import RaygunData\n",
    "\n",
    "preddata   = RaygunData(\"../data/fastas/all_gfp_seqs.fasta\", \n",
    "                        alph, model, device = 0)\n",
    "predloader = DataLoader(preddata, shuffle = True, \n",
    "                       batch_size = 3, collate_fn=preddata.collatefn) ## use the collatefn provided in RaygunData\n",
    "len(preddata)"
   ]
  },
  {
   "cell_type": "markdown",
   "id": "d6848165-6b63-4fbe-99be-ac0743d239a5",
   "metadata": {},
   "source": [
    "## Running the Raygun model to reconstruct the ESM-2 embeddings "
   ]
  },
  {
   "cell_type": "code",
   "execution_count": 5,
   "id": "c73b1a11-c788-42f9-a838-29a16bdc8720",
   "metadata": {},
   "outputs": [
    {
     "name": "stderr",
     "output_type": "stream",
     "text": [
      "Running FP sequences: 100%|██████████| 311/311 [01:42<00:00,  3.02it/s]\n"
     ]
    }
   ],
   "source": [
    "true_seqs = []\n",
    "pred_seqs = []\n",
    "for tok, emb, mask, bat in tqdm(predloader, desc = \"Running FP sequences\"):\n",
    "    \"\"\"\n",
    "    tok -> normal ESM-2 tokens. Shape [batch_size, no_sequences]\n",
    "    emb -> ESM-2 embedding representation. Shape [batch_size, no_sequences, 1280]\n",
    "    mask-> If batch_size > 1, mask gives the information about the length of the individual \n",
    "           sequence in the batch. Shape [batch_size, no_sequences], where `no_sequences`=max(length(seq_i)), i=1 to batch_size\n",
    "           Note that the sequences are left-padded. \n",
    "    batch-> Actual sequence information. Is a tuple [(seq-name, seq), ...]\n",
    "    \"\"\"\n",
    "    tok        = tok.to(0)\n",
    "    emb        = emb.to(0)\n",
    "    mask       = mask.to(0)\n",
    "    _, ts      = zip(*bat)\n",
    "    true_seqs += ts\n",
    "    ## set `return_logits_and_seqs` to true for the model to return `generated-sequences`. \n",
    "    ## use `error_c` to determine the amount of noise to be added while generating.\n",
    "    results = raymodel(emb, mask=mask, noise = 0.1, \n",
    "                       return_logits_and_seqs = True)\n",
    "    pred_seqs += results[\"generated-sequences\"]"
   ]
  },
  {
   "cell_type": "markdown",
   "id": "4feaffd1-3323-4904-8c6b-f0a248cb9ca3",
   "metadata": {},
   "source": [
    "## Compute the sequence identity of the reconstructed-sequences, given "
   ]
  },
  {
   "cell_type": "code",
   "execution_count": 7,
   "id": "4ea9eacb-c61e-4e1a-b7dd-92e791132cbf",
   "metadata": {},
   "outputs": [
    {
     "data": {
      "text/plain": [
       "0.9957627118644068"
      ]
     },
     "execution_count": 7,
     "metadata": {},
     "output_type": "execute_result"
    }
   ],
   "source": [
    "import numpy as np\n",
    "def compute_seq_id(tr, orig):\n",
    "    sids = [1 if t==o else 0 for t, o in \n",
    "            zip(list(tr), list(orig))]\n",
    "    return np.mean(sids)\n",
    "\n",
    "seqids = [compute_seq_id(tr, orig) for tr, orig in zip(true_seqs, pred_seqs)]\n",
    "np.median(seqids)"
   ]
  },
  {
   "cell_type": "code",
   "execution_count": null,
   "id": "1f682d68-73c0-4ce3-9db6-76b00f0e929c",
   "metadata": {},
   "outputs": [],
   "source": []
  }
 ],
 "metadata": {
  "kernelspec": {
   "display_name": "molfeat",
   "language": "python",
   "name": "molfeat"
  },
  "language_info": {
   "codemirror_mode": {
    "name": "ipython",
    "version": 3
   },
   "file_extension": ".py",
   "mimetype": "text/x-python",
   "name": "python",
   "nbconvert_exporter": "python",
   "pygments_lexer": "ipython3",
   "version": "3.11.9"
  }
 },
 "nbformat": 4,
 "nbformat_minor": 5
}
