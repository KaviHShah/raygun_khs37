{
 "cells": [
  {
   "cell_type": "markdown",
   "id": "cdfc359b-dc8f-4752-9624-1278dc73f918",
   "metadata": {},
   "source": [
    "## Load the Raygun model and embedding"
   ]
  },
  {
   "cell_type": "code",
   "execution_count": 1,
   "id": "8d7938f9-fc85-40fe-b92b-20d2cb56571c",
   "metadata": {},
   "outputs": [],
   "source": [
    "from raygun.pretrained import raygun_2_2mil_800M\n",
    "# \n",
    "raymodel = raygun_2_2mil_800M()\n",
    "raymodel = raymodel.to(0)\n",
    "\n",
    "# esm-2 model\n",
    "from esm.pretrained import esm2_t33_650M_UR50D\n",
    "model, alph = esm2_t33_650M_UR50D()\n",
    "model       = model.to(0)"
   ]
  },
  {
   "cell_type": "markdown",
   "id": "e91a8d11-0750-4eee-935d-8b8a73656bcc",
   "metadata": {},
   "source": [
    "## Initialize the dataloader"
   ]
  },
  {
   "cell_type": "code",
   "execution_count": 2,
   "id": "7b188751-b1a3-44a9-9e11-aab071513cb7",
   "metadata": {},
   "outputs": [
    {
     "data": {
      "text/plain": [
       "2"
      ]
     },
     "execution_count": 2,
     "metadata": {},
     "output_type": "execute_result"
    }
   ],
   "source": [
    "from tqdm import tqdm\n",
    "from torch.utils.data import DataLoader\n",
    "from raygun.modelv2.loader import RaygunData\n",
    "\n",
    "preddata   = RaygunData(\"../data/fastas/egfp_mcherry.fasta\", \n",
    "                        alph, model, device = 0)\n",
    "predloader = DataLoader(preddata, shuffle = False, \n",
    "                       batch_size = 2, collate_fn=preddata.collatefn) ## use the collatefn provided in RaygunData\n",
    "len(preddata)"
   ]
  },
  {
   "cell_type": "markdown",
   "id": "b9e56a49-1d98-4e28-8eb8-2a966016d695",
   "metadata": {},
   "source": [
    "## Suppose the goal is to convert EGFP and MCHERRY, two FPs of lengths > 235 to 225 for both"
   ]
  },
  {
   "cell_type": "code",
   "execution_count": 3,
   "id": "8932264b-f479-4951-b9e8-14f9d7e783e6",
   "metadata": {},
   "outputs": [],
   "source": [
    "import torch\n",
    "targetlength = torch.tensor([225,225], dtype = int).to(0)"
   ]
  },
  {
   "cell_type": "code",
   "execution_count": 4,
   "id": "a33d084e-d9e6-417c-9480-1e6ec1331687",
   "metadata": {},
   "outputs": [],
   "source": [
    "toks, embs, mask, bat = next(iter(predloader))\n",
    "toks = toks.to(0)\n",
    "embs = embs.to(0)\n",
    "mask = mask.to(0)"
   ]
  },
  {
   "cell_type": "markdown",
   "id": "48c9b2e0-1700-4a1e-8c61-20405e6b4a6f",
   "metadata": {},
   "source": [
    "## Run Raygun with appropriate `noise` value"
   ]
  },
  {
   "cell_type": "code",
   "execution_count": 5,
   "id": "1230dac4-52fa-413b-b943-6bc3eb44c1e0",
   "metadata": {},
   "outputs": [],
   "source": [
    "raymodel.eval()\n",
    "results = raymodel(embs, mask = mask, noise = 0.05, return_logits_and_seqs = True, target_lengths = targetlength)"
   ]
  },
  {
   "cell_type": "markdown",
   "id": "ac4c9f52-8abd-49fa-9e73-029c5827de92",
   "metadata": {},
   "source": [
    "## get the resulting sequences"
   ]
  },
  {
   "cell_type": "code",
   "execution_count": 8,
   "id": "2c64e7dd-243d-40ff-ba6e-6698c5c6694d",
   "metadata": {},
   "outputs": [
    {
     "data": {
      "text/plain": [
       "[(225,\n",
       "  'MVSKGEEDNMAIIKEFMRFKVHMEGSVNGHEFEIEGEGEGRPYEGTQTAKLKVTKGGPLPFAWDILSPFYGGKYAVHPADPYLLKEFPEGFKWERVMNFEDGGVVTVTQDSSLQDGEFIYKVKLRGTNFPSDGPVMQKKTMGWEASRMYPEGALKREKQRLKKDGHYDAEVKTTYKAKKPVQLPGAYNVNIKLDITSHNEDYTIVEQYERAEGRHSTGGMWELYK'),\n",
       " (225,\n",
       "  'MVSKGEELFTGVVPILVELDGDVNGHKFSVSGEGEGDATYGKLTLKFIWTTGKLPVPWPTLVTTLTYGQCFRRPHHKQHFFKSAPEGYQQRTIFKDDGNYKTRAEVKFEGDTLVNRIELKGIDFKEDGNILGHKLEYHYNSNIIMADKKKGIKIFKRHNIDGVVLDAHYQQNTPIGDGPVLLPDNHYLSTQSALSKDPNEKRDHMVLLEFVTAAGITLGMEEYYK')]"
      ]
     },
     "execution_count": 8,
     "metadata": {},
     "output_type": "execute_result"
    }
   ],
   "source": [
    "[(len(seq), seq) for seq in results[\"generated-sequences\"]]"
   ]
  },
  {
   "cell_type": "code",
   "execution_count": null,
   "id": "856669d1-9805-471f-90b6-fbd0f8276155",
   "metadata": {},
   "outputs": [],
   "source": []
  }
 ],
 "metadata": {
  "kernelspec": {
   "display_name": "molfeat",
   "language": "python",
   "name": "molfeat"
  },
  "language_info": {
   "codemirror_mode": {
    "name": "ipython",
    "version": 3
   },
   "file_extension": ".py",
   "mimetype": "text/x-python",
   "name": "python",
   "nbconvert_exporter": "python",
   "pygments_lexer": "ipython3",
   "version": "3.11.9"
  }
 },
 "nbformat": 4,
 "nbformat_minor": 5
}
